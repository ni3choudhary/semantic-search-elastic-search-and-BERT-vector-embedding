{
 "cells": [
  {
   "cell_type": "code",
   "execution_count": 1,
   "metadata": {},
   "outputs": [],
   "source": [
    "# Import required libraries\n",
    "import os\n",
    "from elasticsearch import Elasticsearch\n",
    "import pandas as pd\n",
    "\n",
    "from dotenv import load_dotenv\n",
    "load_dotenv()\n",
    "\n",
    "import warnings\n",
    "warnings.filterwarnings(\"ignore\")"
   ]
  },
  {
   "cell_type": "code",
   "execution_count": 2,
   "metadata": {},
   "outputs": [],
   "source": [
    "ELASTIC_USERNAME = os.environ.get(\"ELASTIC_USERNAME\")\n",
    "ELASTIC_PASSWORD = os.environ.get(\"ELASTIC_PASSWORD\")\n",
    "\n",
    "ELASTIC_CERT_FILE_LOCATION = os.environ.get(\"ELASTIC_CERT_FILE_LOCATION\")\n",
    "\n",
    "HUGGING_FACE_MODEL = os.environ.get(\"HUGGING_FACE_MODEL\")\n",
    "\n",
    "ES_INDEX = os.environ.get(\"ES_INDEX\")"
   ]
  },
  {
   "cell_type": "code",
   "execution_count": 3,
   "metadata": {},
   "outputs": [
    {
     "data": {
      "text/plain": [
       "True"
      ]
     },
     "execution_count": 3,
     "metadata": {},
     "output_type": "execute_result"
    }
   ],
   "source": [
    "es = Elasticsearch(\n",
    "    \"https://localhost:9200\",\n",
    "    basic_auth=(ELASTIC_USERNAME,ELASTIC_PASSWORD),\n",
    "    ca_certs=ELASTIC_CERT_FILE_LOCATION\n",
    ")\n",
    "es.ping()"
   ]
  },
  {
   "cell_type": "markdown",
   "metadata": {},
   "source": [
    "### Prepare the data"
   ]
  },
  {
   "cell_type": "code",
   "execution_count": 4,
   "metadata": {},
   "outputs": [
    {
     "data": {
      "text/html": [
       "<div>\n",
       "<style scoped>\n",
       "    .dataframe tbody tr th:only-of-type {\n",
       "        vertical-align: middle;\n",
       "    }\n",
       "\n",
       "    .dataframe tbody tr th {\n",
       "        vertical-align: top;\n",
       "    }\n",
       "\n",
       "    .dataframe thead th {\n",
       "        text-align: right;\n",
       "    }\n",
       "</style>\n",
       "<table border=\"1\" class=\"dataframe\">\n",
       "  <thead>\n",
       "    <tr style=\"text-align: right;\">\n",
       "      <th></th>\n",
       "      <th>ProductID</th>\n",
       "      <th>ProductName</th>\n",
       "      <th>ProductBrand</th>\n",
       "      <th>Gender</th>\n",
       "      <th>Price (INR)</th>\n",
       "      <th>NumImages</th>\n",
       "      <th>Description</th>\n",
       "      <th>PrimaryColor</th>\n",
       "    </tr>\n",
       "  </thead>\n",
       "  <tbody>\n",
       "    <tr>\n",
       "      <th>0</th>\n",
       "      <td>10017413</td>\n",
       "      <td>DKNY Unisex Black &amp; Grey Printed Medium Trolle...</td>\n",
       "      <td>DKNY</td>\n",
       "      <td>Unisex</td>\n",
       "      <td>11745</td>\n",
       "      <td>7</td>\n",
       "      <td>Black and grey printed medium trolley bag, sec...</td>\n",
       "      <td>Black</td>\n",
       "    </tr>\n",
       "    <tr>\n",
       "      <th>1</th>\n",
       "      <td>10016283</td>\n",
       "      <td>EthnoVogue Women Beige &amp; Grey Made to Measure ...</td>\n",
       "      <td>EthnoVogue</td>\n",
       "      <td>Women</td>\n",
       "      <td>5810</td>\n",
       "      <td>7</td>\n",
       "      <td>Beige &amp; Grey made to measure kurta with churid...</td>\n",
       "      <td>Beige</td>\n",
       "    </tr>\n",
       "    <tr>\n",
       "      <th>2</th>\n",
       "      <td>10009781</td>\n",
       "      <td>SPYKAR Women Pink Alexa Super Skinny Fit High-...</td>\n",
       "      <td>SPYKAR</td>\n",
       "      <td>Women</td>\n",
       "      <td>899</td>\n",
       "      <td>7</td>\n",
       "      <td>Pink coloured wash 5-pocket high-rise cropped ...</td>\n",
       "      <td>Pink</td>\n",
       "    </tr>\n",
       "    <tr>\n",
       "      <th>3</th>\n",
       "      <td>10015921</td>\n",
       "      <td>Raymond Men Blue Self-Design Single-Breasted B...</td>\n",
       "      <td>Raymond</td>\n",
       "      <td>Men</td>\n",
       "      <td>5599</td>\n",
       "      <td>5</td>\n",
       "      <td>Blue self-design bandhgala suitBlue self-desig...</td>\n",
       "      <td>Blue</td>\n",
       "    </tr>\n",
       "    <tr>\n",
       "      <th>4</th>\n",
       "      <td>10017833</td>\n",
       "      <td>Parx Men Brown &amp; Off-White Slim Fit Printed Ca...</td>\n",
       "      <td>Parx</td>\n",
       "      <td>Men</td>\n",
       "      <td>759</td>\n",
       "      <td>5</td>\n",
       "      <td>Brown and off-white printed casual shirt, has ...</td>\n",
       "      <td>White</td>\n",
       "    </tr>\n",
       "  </tbody>\n",
       "</table>\n",
       "</div>"
      ],
      "text/plain": [
       "   ProductID                                        ProductName ProductBrand  \\\n",
       "0   10017413  DKNY Unisex Black & Grey Printed Medium Trolle...         DKNY   \n",
       "1   10016283  EthnoVogue Women Beige & Grey Made to Measure ...   EthnoVogue   \n",
       "2   10009781  SPYKAR Women Pink Alexa Super Skinny Fit High-...       SPYKAR   \n",
       "3   10015921  Raymond Men Blue Self-Design Single-Breasted B...      Raymond   \n",
       "4   10017833  Parx Men Brown & Off-White Slim Fit Printed Ca...         Parx   \n",
       "\n",
       "   Gender  Price (INR)  NumImages  \\\n",
       "0  Unisex        11745          7   \n",
       "1   Women         5810          7   \n",
       "2   Women          899          7   \n",
       "3     Men         5599          5   \n",
       "4     Men          759          5   \n",
       "\n",
       "                                         Description PrimaryColor  \n",
       "0  Black and grey printed medium trolley bag, sec...        Black  \n",
       "1  Beige & Grey made to measure kurta with churid...        Beige  \n",
       "2  Pink coloured wash 5-pocket high-rise cropped ...         Pink  \n",
       "3  Blue self-design bandhgala suitBlue self-desig...         Blue  \n",
       "4  Brown and off-white printed casual shirt, has ...        White  "
      ]
     },
     "execution_count": 4,
     "metadata": {},
     "output_type": "execute_result"
    }
   ],
   "source": [
    "data = pd.read_csv(\"myntra_products_catalog.csv\")\n",
    "data.head()"
   ]
  },
  {
   "cell_type": "code",
   "execution_count": 5,
   "metadata": {},
   "outputs": [
    {
     "data": {
      "text/plain": [
       "(12491, 8)"
      ]
     },
     "execution_count": 5,
     "metadata": {},
     "output_type": "execute_result"
    }
   ],
   "source": [
    "data.shape"
   ]
  },
  {
   "cell_type": "code",
   "execution_count": 6,
   "metadata": {},
   "outputs": [
    {
     "data": {
      "text/plain": [
       "ProductID         0\n",
       "ProductName       0\n",
       "ProductBrand      0\n",
       "Gender            0\n",
       "Price (INR)       0\n",
       "NumImages         0\n",
       "Description       0\n",
       "PrimaryColor    894\n",
       "dtype: int64"
      ]
     },
     "execution_count": 6,
     "metadata": {},
     "output_type": "execute_result"
    }
   ],
   "source": [
    "data.isnull().sum()"
   ]
  },
  {
   "cell_type": "code",
   "execution_count": 7,
   "metadata": {},
   "outputs": [
    {
     "name": "stdout",
     "output_type": "stream",
     "text": [
      "(11597, 8)\n"
     ]
    }
   ],
   "source": [
    "not_null_mask = data.notnull().all(axis=1)\n",
    "not_null_df = data[not_null_mask]\n",
    "\n",
    "print(not_null_df.shape)"
   ]
  },
  {
   "cell_type": "code",
   "execution_count": 8,
   "metadata": {},
   "outputs": [],
   "source": [
    "df = not_null_df.sample(1000)"
   ]
  },
  {
   "cell_type": "code",
   "execution_count": 9,
   "metadata": {},
   "outputs": [
    {
     "data": {
      "text/plain": [
       "ProductID  ProductName  ProductBrand  Gender  Price (INR)  NumImages  Description  PrimaryColor\n",
       "False      False        False         False   False        False      False        False           1000\n",
       "Name: count, dtype: int64"
      ]
     },
     "execution_count": 9,
     "metadata": {},
     "output_type": "execute_result"
    }
   ],
   "source": [
    "df.isnull().value_counts()"
   ]
  },
  {
   "cell_type": "markdown",
   "metadata": {},
   "source": [
    "### Convert the relevant field to Vector using BERT model"
   ]
  },
  {
   "cell_type": "code",
   "execution_count": 10,
   "metadata": {},
   "outputs": [
    {
     "name": "stderr",
     "output_type": "stream",
     "text": [
      ".gitattributes: 100%|██████████| 1.18k/1.18k [00:00<?, ?B/s]\n",
      "1_Pooling/config.json: 100%|██████████| 190/190 [00:00<?, ?B/s] \n",
      "README.md: 100%|██████████| 10.6k/10.6k [00:00<00:00, 10.3MB/s]\n",
      "config.json: 100%|██████████| 571/571 [00:00<00:00, 615kB/s]\n",
      "config_sentence_transformers.json: 100%|██████████| 116/116 [00:00<00:00, 117kB/s]\n",
      "data_config.json: 100%|██████████| 39.3k/39.3k [00:00<00:00, 422kB/s]\n",
      "pytorch_model.bin: 100%|██████████| 438M/438M [01:21<00:00, 5.40MB/s] \n",
      "sentence_bert_config.json: 100%|██████████| 53.0/53.0 [00:00<?, ?B/s]\n",
      "special_tokens_map.json: 100%|██████████| 239/239 [00:00<00:00, 235kB/s]\n",
      "tokenizer.json: 100%|██████████| 466k/466k [00:00<00:00, 817kB/s]\n",
      "tokenizer_config.json: 100%|██████████| 363/363 [00:00<00:00, 330kB/s]\n",
      "train_script.py: 100%|██████████| 13.1k/13.1k [00:00<00:00, 13.6MB/s]\n",
      "vocab.txt: 100%|██████████| 232k/232k [00:00<00:00, 289kB/s]\n",
      "modules.json: 100%|██████████| 349/349 [00:00<?, ?B/s] \n"
     ]
    }
   ],
   "source": [
    "from sentence_transformers import SentenceTransformer\n",
    "model = SentenceTransformer(HUGGING_FACE_MODEL)"
   ]
  },
  {
   "cell_type": "code",
   "execution_count": 11,
   "metadata": {},
   "outputs": [
    {
     "data": {
      "text/html": [
       "<div>\n",
       "<style scoped>\n",
       "    .dataframe tbody tr th:only-of-type {\n",
       "        vertical-align: middle;\n",
       "    }\n",
       "\n",
       "    .dataframe tbody tr th {\n",
       "        vertical-align: top;\n",
       "    }\n",
       "\n",
       "    .dataframe thead th {\n",
       "        text-align: right;\n",
       "    }\n",
       "</style>\n",
       "<table border=\"1\" class=\"dataframe\">\n",
       "  <thead>\n",
       "    <tr style=\"text-align: right;\">\n",
       "      <th></th>\n",
       "      <th>ProductID</th>\n",
       "      <th>ProductName</th>\n",
       "      <th>ProductBrand</th>\n",
       "      <th>Gender</th>\n",
       "      <th>Price (INR)</th>\n",
       "      <th>NumImages</th>\n",
       "      <th>Description</th>\n",
       "      <th>PrimaryColor</th>\n",
       "      <th>Description_Embeddings</th>\n",
       "    </tr>\n",
       "  </thead>\n",
       "  <tbody>\n",
       "    <tr>\n",
       "      <th>6373</th>\n",
       "      <td>10156229</td>\n",
       "      <td>Indian Terrain Men Off-White Slim Fit Solid Ca...</td>\n",
       "      <td>Indian Terrain</td>\n",
       "      <td>Men</td>\n",
       "      <td>2239</td>\n",
       "      <td>5</td>\n",
       "      <td>Off-White solid casual shirt, has a spread col...</td>\n",
       "      <td>White</td>\n",
       "      <td>[-0.022425951, 0.012131211, 0.03328043, 0.0308...</td>\n",
       "    </tr>\n",
       "    <tr>\n",
       "      <th>119</th>\n",
       "      <td>10013025</td>\n",
       "      <td>Sera Women White Self Design Top</td>\n",
       "      <td>Sera</td>\n",
       "      <td>Women</td>\n",
       "      <td>714</td>\n",
       "      <td>5</td>\n",
       "      <td>White self-design knitted regular  top, has a ...</td>\n",
       "      <td>White</td>\n",
       "      <td>[-0.030529924, 0.057417456, -0.005600156, 0.00...</td>\n",
       "    </tr>\n",
       "    <tr>\n",
       "      <th>6613</th>\n",
       "      <td>10176783</td>\n",
       "      <td>Tommy Hilfiger Men Red &amp; Navy Blue Printed Tru...</td>\n",
       "      <td>Tommy Hilfiger</td>\n",
       "      <td>Men</td>\n",
       "      <td>1049</td>\n",
       "      <td>4</td>\n",
       "      <td>Red and Navy Blue printed trunks, has an outer...</td>\n",
       "      <td>Blue</td>\n",
       "      <td>[0.009835771, -0.02389972, 0.0019814908, -0.03...</td>\n",
       "    </tr>\n",
       "    <tr>\n",
       "      <th>1360</th>\n",
       "      <td>10030413</td>\n",
       "      <td>Geox Men Navy Blue Suede Sneakers</td>\n",
       "      <td>Geox</td>\n",
       "      <td>Men</td>\n",
       "      <td>4999</td>\n",
       "      <td>5</td>\n",
       "      <td>A pair of round-toe navy blue sneakers, has re...</td>\n",
       "      <td>Blue</td>\n",
       "      <td>[-0.011293902, 0.013711613, 0.0060762265, 0.01...</td>\n",
       "    </tr>\n",
       "    <tr>\n",
       "      <th>11262</th>\n",
       "      <td>10255561</td>\n",
       "      <td>Pepe Jeans Boys Off-White &amp; Black Printed Roun...</td>\n",
       "      <td>Pepe Jeans</td>\n",
       "      <td>Boys</td>\n",
       "      <td>499</td>\n",
       "      <td>4</td>\n",
       "      <td>Off-white, red and black printed T-shirt, has ...</td>\n",
       "      <td>Black</td>\n",
       "      <td>[0.028025815, 0.0016927083, 0.00023940434, 0.0...</td>\n",
       "    </tr>\n",
       "  </tbody>\n",
       "</table>\n",
       "</div>"
      ],
      "text/plain": [
       "       ProductID                                        ProductName  \\\n",
       "6373    10156229  Indian Terrain Men Off-White Slim Fit Solid Ca...   \n",
       "119     10013025                   Sera Women White Self Design Top   \n",
       "6613    10176783  Tommy Hilfiger Men Red & Navy Blue Printed Tru...   \n",
       "1360    10030413                  Geox Men Navy Blue Suede Sneakers   \n",
       "11262   10255561  Pepe Jeans Boys Off-White & Black Printed Roun...   \n",
       "\n",
       "         ProductBrand Gender  Price (INR)  NumImages  \\\n",
       "6373   Indian Terrain    Men         2239          5   \n",
       "119              Sera  Women          714          5   \n",
       "6613   Tommy Hilfiger    Men         1049          4   \n",
       "1360             Geox    Men         4999          5   \n",
       "11262      Pepe Jeans   Boys          499          4   \n",
       "\n",
       "                                             Description PrimaryColor  \\\n",
       "6373   Off-White solid casual shirt, has a spread col...        White   \n",
       "119    White self-design knitted regular  top, has a ...        White   \n",
       "6613   Red and Navy Blue printed trunks, has an outer...         Blue   \n",
       "1360   A pair of round-toe navy blue sneakers, has re...         Blue   \n",
       "11262  Off-white, red and black printed T-shirt, has ...        Black   \n",
       "\n",
       "                                  Description_Embeddings  \n",
       "6373   [-0.022425951, 0.012131211, 0.03328043, 0.0308...  \n",
       "119    [-0.030529924, 0.057417456, -0.005600156, 0.00...  \n",
       "6613   [0.009835771, -0.02389972, 0.0019814908, -0.03...  \n",
       "1360   [-0.011293902, 0.013711613, 0.0060762265, 0.01...  \n",
       "11262  [0.028025815, 0.0016927083, 0.00023940434, 0.0...  "
      ]
     },
     "execution_count": 11,
     "metadata": {},
     "output_type": "execute_result"
    }
   ],
   "source": [
    "df[\"Description_Embeddings\"] = df[\"Description\"].apply(lambda x: model.encode(x))\n",
    "df.head()"
   ]
  },
  {
   "cell_type": "markdown",
   "metadata": {},
   "source": [
    "### Create new index in ElasticSearch!"
   ]
  },
  {
   "cell_type": "code",
   "execution_count": 12,
   "metadata": {},
   "outputs": [
    {
     "data": {
      "text/plain": [
       "ObjectApiResponse({'acknowledged': True, 'shards_acknowledged': True, 'index': 'myntra_products'})"
      ]
     },
     "execution_count": 12,
     "metadata": {},
     "output_type": "execute_result"
    }
   ],
   "source": [
    "from index_mapping import indexMapping\n",
    "\n",
    "es.indices.create(index=ES_INDEX, mappings=indexMapping)"
   ]
  },
  {
   "cell_type": "markdown",
   "metadata": {},
   "source": [
    "### Ingest the data into index"
   ]
  },
  {
   "cell_type": "code",
   "execution_count": 13,
   "metadata": {},
   "outputs": [],
   "source": [
    "record_list = df.to_dict(\"records\")"
   ]
  },
  {
   "cell_type": "code",
   "execution_count": 14,
   "metadata": {},
   "outputs": [],
   "source": [
    "def index_records(records):\n",
    "    try:\n",
    "        for record in records:\n",
    "            es.index(index=ES_INDEX, document=record, id=record[\"ProductID\"])\n",
    "    except Exception as e:\n",
    "        raise Exception(f\"Exception while ingesting data into ElasticSearch: {e}\")\n",
    "        \n",
    "\n",
    "index_records(record_list)"
   ]
  },
  {
   "cell_type": "markdown",
   "metadata": {},
   "source": [
    "### Search the data"
   ]
  },
  {
   "cell_type": "code",
   "execution_count": 15,
   "metadata": {},
   "outputs": [
    {
     "data": {
      "text/plain": [
       "[{'_index': 'myntra_products',\n",
       "  '_id': '10255641',\n",
       "  '_score': 0.92506945,\n",
       "  '_source': {'ProductName': 'Pepe Jeans Boys Navy Blue & White Striped Pure Cotton Polo Collar T-shirt',\n",
       "   'Description': 'Navy blue and white striped polo collar T-shirt with embroidered detail, has a polo collar, long sleeves and button closure'}},\n",
       " {'_index': 'myntra_products',\n",
       "  '_id': '10143889',\n",
       "  '_score': 0.9104985,\n",
       "  '_source': {'ProductName': 'Chkokko Men White Solid Polo Collar T-shirt',\n",
       "   'Description': 'White solid T-shirt, has a polo collar, button closure and short sleeves'}}]"
      ]
     },
     "execution_count": 15,
     "metadata": {},
     "output_type": "execute_result"
    }
   ],
   "source": [
    "input_keyword = \"Polo Collar T-Shirt\"\n",
    "input_embeddings = model.encode(input_keyword)\n",
    "\n",
    "query = {\n",
    "    \"field\" : \"Description_Embeddings\",\n",
    "    \"query_vector\" : input_embeddings,\n",
    "    \"k\" : 2,\n",
    "    \"num_candidates\" : 1000, \n",
    "}\n",
    "\n",
    "res = es.knn_search(index=ES_INDEX, knn=query , source=[\"ProductName\",\"Description\"])\n",
    "res[\"hits\"][\"hits\"]"
   ]
  }
 ],
 "metadata": {
  "kernelspec": {
   "display_name": "venv",
   "language": "python",
   "name": "python3"
  },
  "language_info": {
   "codemirror_mode": {
    "name": "ipython",
    "version": 3
   },
   "file_extension": ".py",
   "mimetype": "text/x-python",
   "name": "python",
   "nbconvert_exporter": "python",
   "pygments_lexer": "ipython3",
   "version": "3.11.0"
  }
 },
 "nbformat": 4,
 "nbformat_minor": 2
}
